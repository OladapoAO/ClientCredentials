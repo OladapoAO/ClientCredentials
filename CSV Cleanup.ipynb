{
 "cells": [
  {
   "cell_type": "code",
   "execution_count": 1,
   "id": "92f6f7a6",
   "metadata": {},
   "outputs": [],
   "source": [
    "import pandas as pd"
   ]
  },
  {
   "cell_type": "code",
   "execution_count": 2,
   "id": "39d318ab",
   "metadata": {},
   "outputs": [],
   "source": [
    "mock_data = pd.read_csv('MOCK_DATA (3).csv')"
   ]
  },
  {
   "cell_type": "code",
   "execution_count": 3,
   "id": "031ea5da",
   "metadata": {},
   "outputs": [
    {
     "data": {
      "text/html": [
       "<div>\n",
       "<style scoped>\n",
       "    .dataframe tbody tr th:only-of-type {\n",
       "        vertical-align: middle;\n",
       "    }\n",
       "\n",
       "    .dataframe tbody tr th {\n",
       "        vertical-align: top;\n",
       "    }\n",
       "\n",
       "    .dataframe thead th {\n",
       "        text-align: right;\n",
       "    }\n",
       "</style>\n",
       "<table border=\"1\" class=\"dataframe\">\n",
       "  <thead>\n",
       "    <tr style=\"text-align: right;\">\n",
       "      <th></th>\n",
       "      <th>id</th>\n",
       "      <th>first_name</th>\n",
       "      <th>last_name</th>\n",
       "      <th>email</th>\n",
       "      <th>Password</th>\n",
       "      <th>created_on</th>\n",
       "      <th>Unnamed: 6</th>\n",
       "    </tr>\n",
       "  </thead>\n",
       "  <tbody>\n",
       "    <tr>\n",
       "      <th>0</th>\n",
       "      <td>1</td>\n",
       "      <td>Lisha</td>\n",
       "      <td>McCarrick</td>\n",
       "      <td>lmccarrick0@walmart.com</td>\n",
       "      <td>oD7.D_&gt;pPkv#</td>\n",
       "      <td>3/4/2024</td>\n",
       "      <td>NaN</td>\n",
       "    </tr>\n",
       "    <tr>\n",
       "      <th>1</th>\n",
       "      <td>2</td>\n",
       "      <td>Willard</td>\n",
       "      <td>Frazier</td>\n",
       "      <td>wfrazier1@springer.com</td>\n",
       "      <td>lR2|9uhs2X</td>\n",
       "      <td>4/10/2024</td>\n",
       "      <td>NaN</td>\n",
       "    </tr>\n",
       "    <tr>\n",
       "      <th>2</th>\n",
       "      <td>3</td>\n",
       "      <td>Joann</td>\n",
       "      <td>Cisson</td>\n",
       "      <td>jcisson2@tamu.edu</td>\n",
       "      <td>rF0&gt;87=!!WT/</td>\n",
       "      <td>6/2/2024</td>\n",
       "      <td>NaN</td>\n",
       "    </tr>\n",
       "    <tr>\n",
       "      <th>3</th>\n",
       "      <td>4</td>\n",
       "      <td>Persis</td>\n",
       "      <td>Bittlestone</td>\n",
       "      <td>pbittlestone3@sitemeter.com</td>\n",
       "      <td>eV5.&lt;dG_i9\"\\xJ</td>\n",
       "      <td>9/16/2024</td>\n",
       "      <td>NaN</td>\n",
       "    </tr>\n",
       "    <tr>\n",
       "      <th>4</th>\n",
       "      <td>5</td>\n",
       "      <td>Erma</td>\n",
       "      <td>Fisbey</td>\n",
       "      <td>efisbey4@google.pl</td>\n",
       "      <td>gG9*17Zlc_</td>\n",
       "      <td>7/10/2024</td>\n",
       "      <td>NaN</td>\n",
       "    </tr>\n",
       "  </tbody>\n",
       "</table>\n",
       "</div>"
      ],
      "text/plain": [
       "  id first_name    last_name                        email        Password  \\\n",
       "0  1      Lisha    McCarrick      lmccarrick0@walmart.com    oD7.D_>pPkv#   \n",
       "1  2    Willard      Frazier       wfrazier1@springer.com      lR2|9uhs2X   \n",
       "2  3      Joann       Cisson            jcisson2@tamu.edu    rF0>87=!!WT/   \n",
       "3  4     Persis  Bittlestone  pbittlestone3@sitemeter.com  eV5.<dG_i9\"\\xJ   \n",
       "4  5       Erma       Fisbey           efisbey4@google.pl      gG9*17Zlc_   \n",
       "\n",
       "  created_on Unnamed: 6  \n",
       "0   3/4/2024        NaN  \n",
       "1  4/10/2024        NaN  \n",
       "2   6/2/2024        NaN  \n",
       "3  9/16/2024        NaN  \n",
       "4  7/10/2024        NaN  "
      ]
     },
     "execution_count": 3,
     "metadata": {},
     "output_type": "execute_result"
    }
   ],
   "source": [
    "mock_data.head()"
   ]
  },
  {
   "cell_type": "code",
   "execution_count": 4,
   "id": "498dd8e6",
   "metadata": {},
   "outputs": [
    {
     "data": {
      "text/plain": [
       "(1000, 7)"
      ]
     },
     "execution_count": 4,
     "metadata": {},
     "output_type": "execute_result"
    }
   ],
   "source": [
    "mock_data.shape"
   ]
  },
  {
   "cell_type": "code",
   "execution_count": 5,
   "id": "38b8677a",
   "metadata": {},
   "outputs": [
    {
     "data": {
      "text/plain": [
       "Index(['id', 'first_name', 'last_name', 'email', 'Password', 'created_on',\n",
       "       'Unnamed: 6'],\n",
       "      dtype='object')"
      ]
     },
     "execution_count": 5,
     "metadata": {},
     "output_type": "execute_result"
    }
   ],
   "source": [
    "mock_data.columns"
   ]
  },
  {
   "cell_type": "code",
   "execution_count": 6,
   "id": "12fc5dc3",
   "metadata": {},
   "outputs": [
    {
     "data": {
      "text/plain": [
       "array([nan, '7/17/2024'], dtype=object)"
      ]
     },
     "execution_count": 6,
     "metadata": {},
     "output_type": "execute_result"
    }
   ],
   "source": [
    "mock_data['Unnamed: 6'].unique()"
   ]
  },
  {
   "cell_type": "code",
   "execution_count": 7,
   "id": "718fa006",
   "metadata": {},
   "outputs": [
    {
     "data": {
      "text/html": [
       "<div>\n",
       "<style scoped>\n",
       "    .dataframe tbody tr th:only-of-type {\n",
       "        vertical-align: middle;\n",
       "    }\n",
       "\n",
       "    .dataframe tbody tr th {\n",
       "        vertical-align: top;\n",
       "    }\n",
       "\n",
       "    .dataframe thead th {\n",
       "        text-align: right;\n",
       "    }\n",
       "</style>\n",
       "<table border=\"1\" class=\"dataframe\">\n",
       "  <thead>\n",
       "    <tr style=\"text-align: right;\">\n",
       "      <th></th>\n",
       "      <th>id</th>\n",
       "      <th>first_name</th>\n",
       "      <th>last_name</th>\n",
       "      <th>email</th>\n",
       "      <th>Password</th>\n",
       "      <th>created_on</th>\n",
       "      <th>Unnamed: 6</th>\n",
       "    </tr>\n",
       "  </thead>\n",
       "  <tbody>\n",
       "    <tr>\n",
       "      <th>33</th>\n",
       "      <td>34</td>\n",
       "      <td>Alis</td>\n",
       "      <td>Germon</td>\n",
       "      <td>agermonx@msn.com</td>\n",
       "      <td>iS5*G19%r|o</td>\n",
       "      <td>agermonx@msn.com</td>\n",
       "      <td>7/17/2024</td>\n",
       "    </tr>\n",
       "  </tbody>\n",
       "</table>\n",
       "</div>"
      ],
      "text/plain": [
       "    id first_name last_name             email     Password        created_on  \\\n",
       "33  34       Alis    Germon  agermonx@msn.com  iS5*G19%r|o  agermonx@msn.com   \n",
       "\n",
       "   Unnamed: 6  \n",
       "33  7/17/2024  "
      ]
     },
     "execution_count": 7,
     "metadata": {},
     "output_type": "execute_result"
    }
   ],
   "source": [
    "mock_data[mock_data['Unnamed: 6'] == '7/17/2024']"
   ]
  },
  {
   "cell_type": "code",
   "execution_count": 8,
   "id": "9e41e350",
   "metadata": {},
   "outputs": [
    {
     "data": {
      "text/plain": [
       "'7/17/2024'"
      ]
     },
     "execution_count": 8,
     "metadata": {},
     "output_type": "execute_result"
    }
   ],
   "source": [
    "mock_data.iloc[33, 6]"
   ]
  },
  {
   "cell_type": "code",
   "execution_count": 9,
   "id": "51782cfd",
   "metadata": {},
   "outputs": [],
   "source": [
    "mock_data['created_on'] = mock_data['created_on'].replace([mock_data.iloc[33, 5]], mock_data.iloc[33, 6] )"
   ]
  },
  {
   "cell_type": "code",
   "execution_count": 10,
   "id": "e75ee66c",
   "metadata": {},
   "outputs": [
    {
     "data": {
      "text/html": [
       "<div>\n",
       "<style scoped>\n",
       "    .dataframe tbody tr th:only-of-type {\n",
       "        vertical-align: middle;\n",
       "    }\n",
       "\n",
       "    .dataframe tbody tr th {\n",
       "        vertical-align: top;\n",
       "    }\n",
       "\n",
       "    .dataframe thead th {\n",
       "        text-align: right;\n",
       "    }\n",
       "</style>\n",
       "<table border=\"1\" class=\"dataframe\">\n",
       "  <thead>\n",
       "    <tr style=\"text-align: right;\">\n",
       "      <th></th>\n",
       "      <th>id</th>\n",
       "      <th>first_name</th>\n",
       "      <th>last_name</th>\n",
       "      <th>email</th>\n",
       "      <th>Password</th>\n",
       "      <th>created_on</th>\n",
       "      <th>Unnamed: 6</th>\n",
       "    </tr>\n",
       "  </thead>\n",
       "  <tbody>\n",
       "    <tr>\n",
       "      <th>31</th>\n",
       "      <td>32</td>\n",
       "      <td>Inga</td>\n",
       "      <td>Dunkerly</td>\n",
       "      <td>idunkerlyv@usa.gov</td>\n",
       "      <td>qL3/7c`8U8Iy</td>\n",
       "      <td>4/28/2024</td>\n",
       "      <td>NaN</td>\n",
       "    </tr>\n",
       "    <tr>\n",
       "      <th>32</th>\n",
       "      <td>33</td>\n",
       "      <td>Monro</td>\n",
       "      <td>Crowth</td>\n",
       "      <td>mcrowthw@cpanel.net</td>\n",
       "      <td>yK9(f6b0m</td>\n",
       "      <td>7/18/2024</td>\n",
       "      <td>NaN</td>\n",
       "    </tr>\n",
       "    <tr>\n",
       "      <th>33</th>\n",
       "      <td>34</td>\n",
       "      <td>Alis</td>\n",
       "      <td>Germon</td>\n",
       "      <td>agermonx@msn.com</td>\n",
       "      <td>iS5*G19%r|o</td>\n",
       "      <td>7/17/2024</td>\n",
       "      <td>7/17/2024</td>\n",
       "    </tr>\n",
       "  </tbody>\n",
       "</table>\n",
       "</div>"
      ],
      "text/plain": [
       "    id first_name last_name                email      Password created_on  \\\n",
       "31  32       Inga  Dunkerly   idunkerlyv@usa.gov  qL3/7c`8U8Iy  4/28/2024   \n",
       "32  33      Monro    Crowth  mcrowthw@cpanel.net     yK9(f6b0m  7/18/2024   \n",
       "33  34       Alis    Germon     agermonx@msn.com   iS5*G19%r|o  7/17/2024   \n",
       "\n",
       "   Unnamed: 6  \n",
       "31        NaN  \n",
       "32        NaN  \n",
       "33  7/17/2024  "
      ]
     },
     "execution_count": 10,
     "metadata": {},
     "output_type": "execute_result"
    }
   ],
   "source": [
    "mock_data[31:34]"
   ]
  },
  {
   "cell_type": "code",
   "execution_count": 11,
   "id": "5b599c71",
   "metadata": {},
   "outputs": [],
   "source": [
    "mock_data = mock_data.iloc[:, 0:6]"
   ]
  },
  {
   "cell_type": "code",
   "execution_count": 12,
   "id": "36a6ecaf",
   "metadata": {},
   "outputs": [
    {
     "data": {
      "text/plain": [
       "id            object\n",
       "first_name    object\n",
       "last_name     object\n",
       "email         object\n",
       "Password      object\n",
       "created_on    object\n",
       "dtype: object"
      ]
     },
     "execution_count": 12,
     "metadata": {},
     "output_type": "execute_result"
    }
   ],
   "source": [
    "mock_data.dtypes"
   ]
  },
  {
   "cell_type": "code",
   "execution_count": 13,
   "id": "8a848ec1",
   "metadata": {},
   "outputs": [
    {
     "data": {
      "text/html": [
       "<div>\n",
       "<style scoped>\n",
       "    .dataframe tbody tr th:only-of-type {\n",
       "        vertical-align: middle;\n",
       "    }\n",
       "\n",
       "    .dataframe tbody tr th {\n",
       "        vertical-align: top;\n",
       "    }\n",
       "\n",
       "    .dataframe thead th {\n",
       "        text-align: right;\n",
       "    }\n",
       "</style>\n",
       "<table border=\"1\" class=\"dataframe\">\n",
       "  <thead>\n",
       "    <tr style=\"text-align: right;\">\n",
       "      <th></th>\n",
       "      <th>id</th>\n",
       "      <th>first_name</th>\n",
       "      <th>last_name</th>\n",
       "      <th>email</th>\n",
       "      <th>Password</th>\n",
       "      <th>created_on</th>\n",
       "    </tr>\n",
       "  </thead>\n",
       "  <tbody>\n",
       "    <tr>\n",
       "      <th>329</th>\n",
       "      <td>Goly</td>\n",
       "      <td>Giselle</td>\n",
       "      <td>Goly</td>\n",
       "      <td>ggoly95@vimeo.com</td>\n",
       "      <td>pY5$ql\\(fl~z\"a8/</td>\n",
       "      <td>9/17/2024</td>\n",
       "    </tr>\n",
       "  </tbody>\n",
       "</table>\n",
       "</div>"
      ],
      "text/plain": [
       "       id first_name last_name              email          Password created_on\n",
       "329  Goly    Giselle      Goly  ggoly95@vimeo.com  pY5$ql\\(fl~z\"a8/  9/17/2024"
      ]
     },
     "execution_count": 13,
     "metadata": {},
     "output_type": "execute_result"
    }
   ],
   "source": [
    "mock_data[mock_data['id'] == 'Goly']"
   ]
  },
  {
   "cell_type": "code",
   "execution_count": 14,
   "id": "e9f53831",
   "metadata": {},
   "outputs": [],
   "source": [
    "mock_data['id'] = mock_data['id'].replace(['Goly'],330)"
   ]
  },
  {
   "cell_type": "code",
   "execution_count": 15,
   "id": "98c872db",
   "metadata": {},
   "outputs": [
    {
     "data": {
      "text/html": [
       "<div>\n",
       "<style scoped>\n",
       "    .dataframe tbody tr th:only-of-type {\n",
       "        vertical-align: middle;\n",
       "    }\n",
       "\n",
       "    .dataframe tbody tr th {\n",
       "        vertical-align: top;\n",
       "    }\n",
       "\n",
       "    .dataframe thead th {\n",
       "        text-align: right;\n",
       "    }\n",
       "</style>\n",
       "<table border=\"1\" class=\"dataframe\">\n",
       "  <thead>\n",
       "    <tr style=\"text-align: right;\">\n",
       "      <th></th>\n",
       "      <th>id</th>\n",
       "      <th>first_name</th>\n",
       "      <th>last_name</th>\n",
       "      <th>email</th>\n",
       "      <th>Password</th>\n",
       "      <th>created_on</th>\n",
       "    </tr>\n",
       "  </thead>\n",
       "  <tbody>\n",
       "    <tr>\n",
       "      <th>320</th>\n",
       "      <td>321</td>\n",
       "      <td>Courtney</td>\n",
       "      <td>Foulgham</td>\n",
       "      <td>cfoulgham8w@rediff.com</td>\n",
       "      <td>aH0{5#%=</td>\n",
       "      <td>3/8/2024</td>\n",
       "    </tr>\n",
       "    <tr>\n",
       "      <th>321</th>\n",
       "      <td>322</td>\n",
       "      <td>Kendal</td>\n",
       "      <td>Saich</td>\n",
       "      <td>ksaich8x@patch.com</td>\n",
       "      <td>wF2?ckREJ4A&gt;JY}</td>\n",
       "      <td>12/31/2023</td>\n",
       "    </tr>\n",
       "    <tr>\n",
       "      <th>322</th>\n",
       "      <td>323</td>\n",
       "      <td>Gonzalo</td>\n",
       "      <td>Oakwell</td>\n",
       "      <td>goakwell8y@unicef.org</td>\n",
       "      <td>aK6$bqhLI&amp;`_73$s</td>\n",
       "      <td>12/24/2023</td>\n",
       "    </tr>\n",
       "    <tr>\n",
       "      <th>323</th>\n",
       "      <td>324</td>\n",
       "      <td>Gustavus</td>\n",
       "      <td>Luddy</td>\n",
       "      <td>gluddy8z@timesonline.co.uk</td>\n",
       "      <td>uW9&lt;Uz9IVAuloa_</td>\n",
       "      <td>2/12/2024</td>\n",
       "    </tr>\n",
       "    <tr>\n",
       "      <th>324</th>\n",
       "      <td>325</td>\n",
       "      <td>Les</td>\n",
       "      <td>Lincoln</td>\n",
       "      <td>llincoln90@aboutads.info</td>\n",
       "      <td>hV8=aMrc$jJ</td>\n",
       "      <td>6/20/2024</td>\n",
       "    </tr>\n",
       "    <tr>\n",
       "      <th>325</th>\n",
       "      <td>326</td>\n",
       "      <td>Etheline</td>\n",
       "      <td>Toman</td>\n",
       "      <td>etoman91@bing.com</td>\n",
       "      <td>oT9_(f/&gt;S?b@</td>\n",
       "      <td>4/29/2024</td>\n",
       "    </tr>\n",
       "    <tr>\n",
       "      <th>326</th>\n",
       "      <td>327</td>\n",
       "      <td>Trix</td>\n",
       "      <td>Snelson</td>\n",
       "      <td>tsnelson92@ow.ly</td>\n",
       "      <td>dC2*0W=(4</td>\n",
       "      <td>3/12/2024</td>\n",
       "    </tr>\n",
       "    <tr>\n",
       "      <th>327</th>\n",
       "      <td>328</td>\n",
       "      <td>Trixie</td>\n",
       "      <td>Webborn</td>\n",
       "      <td>twebborn93@spotify.com</td>\n",
       "      <td>xG5&gt;5#j%C$d</td>\n",
       "      <td>7/16/2024</td>\n",
       "    </tr>\n",
       "    <tr>\n",
       "      <th>328</th>\n",
       "      <td>329</td>\n",
       "      <td>Lemmie</td>\n",
       "      <td>Krates</td>\n",
       "      <td>lkrates94@berkeley.edu</td>\n",
       "      <td>bL2)VgV$)Z1v</td>\n",
       "      <td>4/9/2024</td>\n",
       "    </tr>\n",
       "    <tr>\n",
       "      <th>329</th>\n",
       "      <td>330</td>\n",
       "      <td>Giselle</td>\n",
       "      <td>Goly</td>\n",
       "      <td>ggoly95@vimeo.com</td>\n",
       "      <td>pY5$ql\\(fl~z\"a8/</td>\n",
       "      <td>9/17/2024</td>\n",
       "    </tr>\n",
       "    <tr>\n",
       "      <th>330</th>\n",
       "      <td>331</td>\n",
       "      <td>Orelee</td>\n",
       "      <td>Chetwind</td>\n",
       "      <td>ochetwind96@narod.ru</td>\n",
       "      <td>tF1*_6|ef4kM&gt;=`</td>\n",
       "      <td>5/28/2024</td>\n",
       "    </tr>\n",
       "    <tr>\n",
       "      <th>331</th>\n",
       "      <td>332</td>\n",
       "      <td>Matthus</td>\n",
       "      <td>Sherebrook</td>\n",
       "      <td>msherebrook97@naver.com</td>\n",
       "      <td>aQ5\"q=H`w@</td>\n",
       "      <td>6/24/2024</td>\n",
       "    </tr>\n",
       "  </tbody>\n",
       "</table>\n",
       "</div>"
      ],
      "text/plain": [
       "      id first_name   last_name                       email          Password  \\\n",
       "320  321   Courtney    Foulgham      cfoulgham8w@rediff.com          aH0{5#%=   \n",
       "321  322     Kendal       Saich          ksaich8x@patch.com   wF2?ckREJ4A>JY}   \n",
       "322  323    Gonzalo     Oakwell       goakwell8y@unicef.org  aK6$bqhLI&`_73$s   \n",
       "323  324   Gustavus       Luddy  gluddy8z@timesonline.co.uk   uW9<Uz9IVAuloa_   \n",
       "324  325        Les     Lincoln    llincoln90@aboutads.info       hV8=aMrc$jJ   \n",
       "325  326   Etheline       Toman           etoman91@bing.com      oT9_(f/>S?b@   \n",
       "326  327       Trix     Snelson            tsnelson92@ow.ly         dC2*0W=(4   \n",
       "327  328     Trixie     Webborn      twebborn93@spotify.com       xG5>5#j%C$d   \n",
       "328  329     Lemmie      Krates      lkrates94@berkeley.edu      bL2)VgV$)Z1v   \n",
       "329  330    Giselle        Goly           ggoly95@vimeo.com  pY5$ql\\(fl~z\"a8/   \n",
       "330  331     Orelee    Chetwind        ochetwind96@narod.ru   tF1*_6|ef4kM>=`   \n",
       "331  332    Matthus  Sherebrook     msherebrook97@naver.com        aQ5\"q=H`w@   \n",
       "\n",
       "     created_on  \n",
       "320    3/8/2024  \n",
       "321  12/31/2023  \n",
       "322  12/24/2023  \n",
       "323   2/12/2024  \n",
       "324   6/20/2024  \n",
       "325   4/29/2024  \n",
       "326   3/12/2024  \n",
       "327   7/16/2024  \n",
       "328    4/9/2024  \n",
       "329   9/17/2024  \n",
       "330   5/28/2024  \n",
       "331   6/24/2024  "
      ]
     },
     "execution_count": 15,
     "metadata": {},
     "output_type": "execute_result"
    }
   ],
   "source": [
    "mock_data[320:332]"
   ]
  },
  {
   "cell_type": "code",
   "execution_count": 16,
   "id": "428643a1",
   "metadata": {},
   "outputs": [
    {
     "data": {
      "text/plain": [
       "(1000, 6)"
      ]
     },
     "execution_count": 16,
     "metadata": {},
     "output_type": "execute_result"
    }
   ],
   "source": [
    "mock_data.shape"
   ]
  },
  {
   "cell_type": "code",
   "execution_count": 17,
   "id": "5d7d0b5a",
   "metadata": {},
   "outputs": [],
   "source": [
    "#mock_data.to_csv('Client_Data.csv', index=False)"
   ]
  },
  {
   "cell_type": "code",
   "execution_count": null,
   "id": "1ad70a03",
   "metadata": {},
   "outputs": [],
   "source": []
  }
 ],
 "metadata": {
  "kernelspec": {
   "display_name": "Python 3 (ipykernel)",
   "language": "python",
   "name": "python3"
  },
  "language_info": {
   "codemirror_mode": {
    "name": "ipython",
    "version": 3
   },
   "file_extension": ".py",
   "mimetype": "text/x-python",
   "name": "python",
   "nbconvert_exporter": "python",
   "pygments_lexer": "ipython3",
   "version": "3.9.16"
  }
 },
 "nbformat": 4,
 "nbformat_minor": 5
}
